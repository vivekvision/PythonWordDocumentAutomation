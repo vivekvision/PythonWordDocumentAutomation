{
 "cells": [
  {
   "cell_type": "code",
   "execution_count": 3,
   "id": "80320e1e",
   "metadata": {},
   "outputs": [],
   "source": [
    "from docx import Document\n",
    "from docx.shared import Pt\n",
    "from docx.enum.text import WD_ALIGN_PARAGRAPH\n",
    "from docx.table import Table\n",
    "\n",
    "# Create a new Word document\n",
    "doc = Document()\n",
    "\n",
    "# Add a title\n",
    "title = doc.add_heading('My Document', level=1)\n",
    "title.alignment = WD_ALIGN_PARAGRAPH.CENTER\n",
    "\n",
    "# Add a subtitle\n",
    "subtitle = doc.add_heading('Subtitle', level=2)\n",
    "subtitle.alignment = WD_ALIGN_PARAGRAPH.CENTER\n",
    "\n",
    "# Add some text\n",
    "p = doc.add_paragraph('This is some text with ')\n",
    "p.add_run('bold').bold = True\n",
    "p.add_run(' and ')\n",
    "p.add_run('italic').italic = True\n",
    "p.add_run(' formatting. ')\n",
    "p.add_run('This is some text in a different font.').font.name = 'Calibri'\n",
    "p.add_run(' This is some text in a different size.').font.size = Pt(16)\n",
    "\n",
    "# Add a table\n",
    "data = [\n",
    "    ['Name', 'Age', 'Gender'],\n",
    "    ['John', '25', 'Male'],\n",
    "    ['Jane', '35', 'Female'],\n",
    "    ['Bob', '42', 'Male'],\n",
    "    ['Alice', '28', 'Female'],\n",
    "]\n",
    "table = doc.add_table(rows=len(data), cols=len(data[0]))\n",
    "for i, row_data in enumerate(data):\n",
    "    for j, value in enumerate(row_data):\n",
    "        table.cell(i, j).text = value\n",
    "table.style = 'Table Grid'\n",
    "\n",
    "# Save the document\n",
    "doc.save('example.docx')\n"
   ]
  },
  {
   "cell_type": "code",
   "execution_count": null,
   "id": "1574be12",
   "metadata": {},
   "outputs": [],
   "source": []
  }
 ],
 "metadata": {
  "kernelspec": {
   "display_name": "Python 3 (ipykernel)",
   "language": "python",
   "name": "python3"
  },
  "language_info": {
   "codemirror_mode": {
    "name": "ipython",
    "version": 3
   },
   "file_extension": ".py",
   "mimetype": "text/x-python",
   "name": "python",
   "nbconvert_exporter": "python",
   "pygments_lexer": "ipython3",
   "version": "3.9.7"
  }
 },
 "nbformat": 4,
 "nbformat_minor": 5
}
